{
 "cells": [
  {
   "cell_type": "code",
   "execution_count": 7,
   "metadata": {},
   "outputs": [
    {
     "data": {
      "text/plain": [
       "'\\n\\nyears_range_one = list(range(1991, 1996))\\nyears_range_two = list(range(1996, 2001))\\nyears_range_three = list(range(2001, 2006))\\nyears_range_four = list(range(2006, 2011))\\nyears_range_five = list(range(2011, 2016))\\nyears_range_six = list(range(2016, 2021))\\nyears_range_sev = list(range(2021, 2024))\\n#print(years_range_one)\\n#print(years_range_two)\\n#print(years_range_three)\\n#print(years_range_four)\\n#print(years_range_five)\\nprint(years_range_six)\\nprint(years_range_sev)\\n\\nstarting_url = \"https://www.basketball-reference.com/awards/awards_{}.html\"\\n\\n\\n'"
      ]
     },
     "execution_count": 7,
     "metadata": {},
     "output_type": "execute_result"
    }
   ],
   "source": [
    "\"\"\"\n",
    "\n",
    "years_range_one = list(range(1991, 1996))\n",
    "years_range_two = list(range(1996, 2001))\n",
    "years_range_three = list(range(2001, 2006))\n",
    "years_range_four = list(range(2006, 2011))\n",
    "years_range_five = list(range(2011, 2016))\n",
    "years_range_six = list(range(2016, 2021))\n",
    "years_range_sev = list(range(2021, 2024))\n",
    "#print(years_range_one)\n",
    "#print(years_range_two)\n",
    "#print(years_range_three)\n",
    "#print(years_range_four)\n",
    "#print(years_range_five)\n",
    "print(years_range_six)\n",
    "print(years_range_sev)\n",
    "\n",
    "starting_url = \"https://www.basketball-reference.com/awards/awards_{}.html\"\n",
    "\n",
    "\n",
    "\"\"\""
   ]
  },
  {
   "cell_type": "code",
   "execution_count": 141,
   "metadata": {},
   "outputs": [
    {
     "data": {
      "text/plain": [
       "'\\nfor year in years_range_three:\\n    url = starting_url.format(year)\\n    data = requests.get(url)\\n\\n    with open(\"MVPfiles/{}.html\".format(year), \"w+\") as fl:\\n    fl.write(data.text)\\n\\n'"
      ]
     },
     "execution_count": 141,
     "metadata": {},
     "output_type": "execute_result"
    }
   ],
   "source": [
    "#use requests library to grab html data from website for the awards eeach year\n",
    "import requests\n",
    "\"\"\"for year in years_range_five:\n",
    "    url = starting_url.format(year)\n",
    "    data = requests.get(url)\n",
    "\n",
    "    with open(\"MVPfiles/{}.html\".format(year), \"w+\") as fl:\n",
    "        fl.write(data.text)\n",
    "        \"\"\"\n",
    "\"\"\"\n",
    "for year in years_range_two:\n",
    "    url = starting_url.format(year)\n",
    "    data = requests.get(url)\n",
    "\n",
    "    with open(\"MVPfiles/{}.html\".format(year), \"w+\") as fl:\n",
    "    fl.write(data.text)\n",
    "\n",
    "\"\"\"\n",
    "\n",
    "\"\"\"\n",
    "for year in years_range_three:\n",
    "    url = starting_url.format(year)\n",
    "    data = requests.get(url)\n",
    "\n",
    "    with open(\"MVPfiles/{}.html\".format(year), \"w+\") as fl:\n",
    "    fl.write(data.text)\n",
    "\n",
    "\"\"\"\n",
    "\n",
    "\n",
    "\n"
   ]
  },
  {
   "cell_type": "code",
   "execution_count": 142,
   "metadata": {},
   "outputs": [],
   "source": [
    "#Setting up inital scraper skeleton\n",
    "from bs4 import BeautifulSoup\n",
    "\n",
    "with open (r\"MVPfiles\\1991.html\") as file:\n",
    "    readPage = file.read()\n",
    "\n",
    "\n"
   ]
  },
  {
   "cell_type": "code",
   "execution_count": 5,
   "metadata": {},
   "outputs": [
    {
     "ename": "NameError",
     "evalue": "name 'goodSoup' is not defined",
     "output_type": "error",
     "traceback": [
      "\u001b[1;31m---------------------------------------------------------------------------\u001b[0m",
      "\u001b[1;31mNameError\u001b[0m                                 Traceback (most recent call last)",
      "Cell \u001b[1;32mIn[5], line 1\u001b[0m\n\u001b[1;32m----> 1\u001b[0m goodSoup\u001b[38;5;241m.\u001b[39mfind(\u001b[38;5;124m\"\u001b[39m\u001b[38;5;124mtr\u001b[39m\u001b[38;5;124m\"\u001b[39m, class_\u001b[38;5;241m=\u001b[39m\u001b[38;5;124m\"\u001b[39m\u001b[38;5;124mover_header\u001b[39m\u001b[38;5;124m\"\u001b[39m)\u001b[38;5;241m.\u001b[39mdecompose()\n\u001b[0;32m      3\u001b[0m mvpTable \u001b[38;5;241m=\u001b[39m goodSoup\u001b[38;5;241m.\u001b[39mfind_all(\u001b[38;5;28mid\u001b[39m\u001b[38;5;241m=\u001b[39m\u001b[38;5;124m\"\u001b[39m\u001b[38;5;124mmvp\u001b[39m\u001b[38;5;124m\"\u001b[39m)\n\u001b[0;32m      5\u001b[0m \u001b[38;5;28;01mimport\u001b[39;00m \u001b[38;5;21;01mpandas\u001b[39;00m \u001b[38;5;28;01mas\u001b[39;00m \u001b[38;5;21;01mpd\u001b[39;00m\n",
      "\u001b[1;31mNameError\u001b[0m: name 'goodSoup' is not defined"
     ]
    }
   ],
   "source": [
    "goodSoup = BeautifulSoup(readPage, \"html.parser\")\n",
    "goodSoup.find(\"tr\", class_=\"over_header\").decompose()\n",
    "\n",
    "mvpTable = goodSoup.find_all(id=\"mvp\")\n",
    "\n",
    "import pandas as pd\n",
    "\n",
    "#this is a list of dataframes or its acting like one although it's just one thing? need to index it\n",
    "mvp_year_91 = pd.read_html(str(mvpTable))[0]\n",
    "\n",
    "years = list(range(1991, 2024))\n",
    "\n",
    "for year in years:\n",
    "    with open(r'MVPfiles\\1992.html'.format(year), errors='ignore') as f:\n",
    "        page = f.read()\n",
    "   \n",
    "\n",
    "print(\"only an error in fucking VSCODE HOLY SHIT\")\n",
    "\n",
    "\n"
   ]
  },
  {
   "cell_type": "code",
   "execution_count": null,
   "metadata": {},
   "outputs": [],
   "source": []
  }
 ],
 "metadata": {
  "kernelspec": {
   "display_name": "Python 3 (ipykernel)",
   "language": "python",
   "name": "python3"
  },
  "language_info": {
   "codemirror_mode": {
    "name": "ipython",
    "version": 3
   },
   "file_extension": ".py",
   "mimetype": "text/x-python",
   "name": "python",
   "nbconvert_exporter": "python",
   "pygments_lexer": "ipython3",
   "version": "3.11.5"
  }
 },
 "nbformat": 4,
 "nbformat_minor": 2
}
