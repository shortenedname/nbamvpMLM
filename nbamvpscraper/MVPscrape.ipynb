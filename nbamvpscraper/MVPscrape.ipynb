{
 "cells": [
  {
   "cell_type": "code",
   "execution_count": 22,
   "metadata": {},
   "outputs": [],
   "source": [
    "starting_url = \"https://www.basketball-reference.com/awards/awards_{}.html\""
   ]
  },
  {
   "cell_type": "code",
   "execution_count": 23,
   "metadata": {},
   "outputs": [
    {
     "data": {
      "text/plain": [
       "'\"\\nyear = 2023\\nurl = starting_url.format(year)\\ndata = requests.get(url)\\n\\nwith open(\"nbamvpscraper{}.html\".format(year), \"w+\") as newF:\\n    newF.write(data.text)\\n\\n'"
      ]
     },
     "execution_count": 23,
     "metadata": {},
     "output_type": "execute_result"
    }
   ],
   "source": [
    "#use requests library to scrape this god awful sports-reference website that fucking limits scrapes because god fucking forbid a student or something like that wants to try and scrape some stats that they get flagged as a bot because they didn't do the 10 requests for what I need every other 3 hours so I won't \"flood the server with requests\" or whatever the fuck the problem is, literally everyone and their momma who loves sports uses the site but they don't have the money for better rerquest handling infrastructurte yeah okay alright\n",
    "import requests\n",
    "\n",
    "\n",
    "\n",
    "#having to break downt the ranges of the years because the first couple of times I thought all the files are saved, had to backfill for 2001-2005 and 2016-2022.\n",
    "#actually let me mess around and grab the 2022-2023 season stuff\n",
    "\"\"\"for year in years_range_five:\n",
    "    url = starting_url.format(year)\n",
    "    data = requests.get(url)\n",
    "\n",
    "    with open(\"MVPfiles/{}.html\".format(year), \"w+\") as fl:\n",
    "        fl.write(data.text)\n",
    "\"\"\"\n",
    "\n",
    "\"\"\"\n",
    "for year in list(range(2016, 2023)):\n",
    "    url = starting_url.format(year)\n",
    "    data = requests.get(url)\n",
    "\n",
    "    with open(\"nbamvpscraper{}.html\".format(year), \"w+\") as newF:\n",
    "        newF.write(data.text)\n",
    "\"\"\"\n",
    "\n",
    "\"\"\"\"\n",
    "year = 2023\n",
    "url = starting_url.format(year)\n",
    "data = requests.get(url)\n",
    "\n",
    "with open(\"nbamvpscraper{}.html\".format(year), \"w+\") as newF:\n",
    "    newF.write(data.text)\n",
    "\n",
    "\"\"\"\n",
    "#last line above is to get that last season like I just said above\n"
   ]
  },
  {
   "cell_type": "code",
   "execution_count": 24,
   "metadata": {},
   "outputs": [
    {
     "data": {
      "text/plain": [
       "<table class=\"sortable stats_table\" data-cols-to-freeze=\",2\" id=\"mvp\">\n",
       "<caption>Most Valuable Player (Michael Jordan Trophy) Table</caption>\n",
       "<colgroup><col/><col/><col/><col/><col/><col/><col/><col/><col/><col/><col/><col/><col/><col/><col/><col/><col/><col/><col/><col/></colgroup>\n",
       "<thead>\n",
       "<tr class=\"over_header\">\n",
       "<th aria-label=\"\" class=\"over_header center\" colspan=\"4\" data-stat=\"\"></th>\n",
       "<th aria-label=\"\" class=\"over_header center\" colspan=\"4\" data-stat=\"header_award_voting\">Voting</th><th></th>\n",
       "<th aria-label=\"\" class=\"over_header center\" colspan=\"6\" data-stat=\"header_per_g\">Per Game</th>\n",
       "<th aria-label=\"\" class=\"over_header center\" colspan=\"3\" data-stat=\"header_shooting\">Shooting</th>\n",
       "<th aria-label=\"\" class=\"over_header center\" colspan=\"2\" data-stat=\"header_advanced\">Advanced</th>\n",
       "</tr>\n",
       "<tr>\n",
       "<th aria-label=\"rank\" class=\"poptip center\" data-stat=\"rank\" scope=\"col\">Rank</th>\n",
       "<th aria-label=\"Player\" class=\"poptip sort_default_asc left\" data-stat=\"player\" scope=\"col\">Player</th>\n",
       "<th aria-label=\"Age\" class=\"poptip sort_default_asc center\" data-stat=\"age\" data-tip=\"Player's age on February 1 of the season\" scope=\"col\">Age</th>\n",
       "<th aria-label=\"Tm\" class=\"poptip sort_default_asc left\" data-stat=\"team_id\" data-tip=\"Team\" scope=\"col\">Tm</th>\n",
       "<th aria-label=\"First\" class=\"poptip right\" data-over-header=\"Voting\" data-stat=\"votes_first\" data-tip=\"First Place Votes\" scope=\"col\">First</th>\n",
       "<th aria-label=\"Pts Won\" class=\"poptip right\" data-over-header=\"Voting\" data-stat=\"points_won\" scope=\"col\">Pts Won</th>\n",
       "<th aria-label=\"Pts Max\" class=\"poptip right\" data-over-header=\"Voting\" data-stat=\"points_max\" scope=\"col\">Pts Max</th>\n",
       "<th aria-label=\"Share\" class=\"poptip right\" data-over-header=\"Voting\" data-stat=\"award_share\" scope=\"col\">Share</th>\n",
       "<th aria-label=\"Games\" class=\"poptip right\" data-over-header=\"Totals\" data-stat=\"g\" data-tip=\"Games\" scope=\"col\">G</th>\n",
       "<th aria-label=\"Minutes Played Per Game\" class=\"poptip right\" data-over-header=\"Per Game\" data-stat=\"mp_per_g\" data-tip=\"Minutes Played Per Game\" scope=\"col\">MP</th>\n",
       "<th aria-label=\"Points Per Game\" class=\"poptip right\" data-over-header=\"Per Game\" data-stat=\"pts_per_g\" data-tip=\"Points Per Game\" scope=\"col\">PTS</th>\n",
       "<th aria-label=\"Total Rebounds Per Game\" class=\"poptip right\" data-over-header=\"Per Game\" data-stat=\"trb_per_g\" data-tip=\"Total Rebounds Per Game\" scope=\"col\">TRB</th>\n",
       "<th aria-label=\"Assists Per Game\" class=\"poptip right\" data-over-header=\"Per Game\" data-stat=\"ast_per_g\" data-tip=\"Assists Per Game\" scope=\"col\">AST</th>\n",
       "<th aria-label=\"Steals Per Game\" class=\"poptip right\" data-over-header=\"Per Game\" data-stat=\"stl_per_g\" data-tip=\"Steals Per Game\" scope=\"col\">STL</th>\n",
       "<th aria-label=\"Blocks Per Game\" class=\"poptip right\" data-over-header=\"Per Game\" data-stat=\"blk_per_g\" data-tip=\"Blocks Per Game\" scope=\"col\">BLK</th>\n",
       "<th aria-label=\"Field Goal Percentage\" class=\"poptip right\" data-over-header=\"Shooting\" data-stat=\"fg_pct\" data-tip=\"Field Goal Percentage\" scope=\"col\">FG%</th>\n",
       "<th aria-label=\"3-Point Field Goal Percentage\" class=\"poptip right\" data-over-header=\"Shooting\" data-stat=\"fg3_pct\" data-tip=\"3-Point Field Goal Percentage\" scope=\"col\">3P%</th>\n",
       "<th aria-label=\"Free Throw Percentage\" class=\"poptip right\" data-over-header=\"Shooting\" data-stat=\"ft_pct\" data-tip=\"Free Throw Percentage\" scope=\"col\">FT%</th>\n",
       "<th aria-label=\"Win Shares\" class=\"poptip right\" data-over-header=\"Advanced\" data-stat=\"ws\" data-tip=\"&lt;b&gt;Win Shares&lt;/b&gt;&lt;br&gt;An estimate of the number of wins contributed by a player.\" scope=\"col\">WS</th>\n",
       "<th aria-label=\"Win Shares Per 48 Minutes\" class=\"poptip right\" data-over-header=\"Advanced\" data-stat=\"ws_per_48\" data-tip=\"&lt;b&gt;Win Shares Per 48 Minutes&lt;/b&gt;&lt;br&gt;An estimate of the number of wins contributed by a player per 48 minutes (league average is approximately .100)\" scope=\"col\">WS/48</th>\n",
       "</tr>\n",
       "</thead>\n",
       "<tbody><tr><th class=\"right\" data-stat=\"rank\" scope=\"row\">1</th><td class=\"left\" csk=\"Jordan,Michael\" data-append-csv=\"jordami01\" data-stat=\"player\"><a href=\"/players/j/jordami01.html\">Michael Jordan</a></td><td class=\"right\" data-stat=\"age\">27</td><td class=\"left\" data-stat=\"team_id\"><a href=\"/teams/CHI/1991.html\">CHI</a></td><td class=\"right\" data-stat=\"votes_first\">77.0</td><td class=\"right\" data-stat=\"points_won\">891.0</td><td class=\"right\" data-stat=\"points_max\">960</td><td class=\"right\" data-stat=\"award_share\">0.928</td><td class=\"right\" data-stat=\"g\">82</td><td class=\"right\" data-stat=\"mp_per_g\">37.0</td><td class=\"right\" data-stat=\"pts_per_g\">31.5</td><td class=\"right\" data-stat=\"trb_per_g\">6.0</td><td class=\"right\" data-stat=\"ast_per_g\">5.5</td><td class=\"right\" data-stat=\"stl_per_g\">2.7</td><td class=\"right\" data-stat=\"blk_per_g\">1.0</td><td class=\"right\" data-stat=\"fg_pct\">.539</td><td class=\"right\" data-stat=\"fg3_pct\">.312</td><td class=\"right\" data-stat=\"ft_pct\">.851</td><td class=\"right\" data-stat=\"ws\">20.3</td><td class=\"right\" data-stat=\"ws_per_48\">.321</td></tr>\n",
       "<tr><th class=\"right\" data-stat=\"rank\" scope=\"row\">2</th><td class=\"left\" csk=\"Johnson,Magic\" data-append-csv=\"johnsma02\" data-stat=\"player\"><a href=\"/players/j/johnsma02.html\">Magic Johnson</a></td><td class=\"right\" data-stat=\"age\">31</td><td class=\"left\" data-stat=\"team_id\"><a href=\"/teams/LAL/1991.html\">LAL</a></td><td class=\"right\" data-stat=\"votes_first\">10.0</td><td class=\"right\" data-stat=\"points_won\">497.0</td><td class=\"right\" data-stat=\"points_max\">960</td><td class=\"right\" data-stat=\"award_share\">0.518</td><td class=\"right\" data-stat=\"g\">79</td><td class=\"right\" data-stat=\"mp_per_g\">37.1</td><td class=\"right\" data-stat=\"pts_per_g\">19.4</td><td class=\"right\" data-stat=\"trb_per_g\">7.0</td><td class=\"right\" data-stat=\"ast_per_g\">12.5</td><td class=\"right\" data-stat=\"stl_per_g\">1.3</td><td class=\"right\" data-stat=\"blk_per_g\">0.2</td><td class=\"right\" data-stat=\"fg_pct\">.477</td><td class=\"right\" data-stat=\"fg3_pct\">.320</td><td class=\"right\" data-stat=\"ft_pct\">.906</td><td class=\"right\" data-stat=\"ws\">15.4</td><td class=\"right\" data-stat=\"ws_per_48\">.251</td></tr>\n",
       "<tr><th class=\"right\" data-stat=\"rank\" scope=\"row\">3</th><td class=\"left\" csk=\"Robinson,David\" data-append-csv=\"robinda01\" data-stat=\"player\"><a href=\"/players/r/robinda01.html\">David Robinson</a></td><td class=\"right\" data-stat=\"age\">25</td><td class=\"left\" data-stat=\"team_id\"><a href=\"/teams/SAS/1991.html\">SAS</a></td><td class=\"right\" data-stat=\"votes_first\">6.0</td><td class=\"right\" data-stat=\"points_won\">476.0</td><td class=\"right\" data-stat=\"points_max\">960</td><td class=\"right\" data-stat=\"award_share\">0.496</td><td class=\"right\" data-stat=\"g\">82</td><td class=\"right\" data-stat=\"mp_per_g\">37.7</td><td class=\"right\" data-stat=\"pts_per_g\">25.6</td><td class=\"right\" data-stat=\"trb_per_g\">13.0</td><td class=\"right\" data-stat=\"ast_per_g\">2.5</td><td class=\"right\" data-stat=\"stl_per_g\">1.5</td><td class=\"right\" data-stat=\"blk_per_g\">3.9</td><td class=\"right\" data-stat=\"fg_pct\">.552</td><td class=\"right\" data-stat=\"fg3_pct\">.143</td><td class=\"right\" data-stat=\"ft_pct\">.762</td><td class=\"right\" data-stat=\"ws\">17.0</td><td class=\"right\" data-stat=\"ws_per_48\">.264</td></tr>\n",
       "<tr><th class=\"right\" data-stat=\"rank\" scope=\"row\">4</th><td class=\"left\" csk=\"Barkley,Charles\" data-append-csv=\"barklch01\" data-stat=\"player\"><a href=\"/players/b/barklch01.html\">Charles Barkley</a></td><td class=\"right\" data-stat=\"age\">27</td><td class=\"left\" data-stat=\"team_id\"><a href=\"/teams/PHI/1991.html\">PHI</a></td><td class=\"right\" data-stat=\"votes_first\">2.0</td><td class=\"right\" data-stat=\"points_won\">222.0</td><td class=\"right\" data-stat=\"points_max\">960</td><td class=\"right\" data-stat=\"award_share\">0.231</td><td class=\"right\" data-stat=\"g\">67</td><td class=\"right\" data-stat=\"mp_per_g\">37.3</td><td class=\"right\" data-stat=\"pts_per_g\">27.6</td><td class=\"right\" data-stat=\"trb_per_g\">10.1</td><td class=\"right\" data-stat=\"ast_per_g\">4.2</td><td class=\"right\" data-stat=\"stl_per_g\">1.6</td><td class=\"right\" data-stat=\"blk_per_g\">0.5</td><td class=\"right\" data-stat=\"fg_pct\">.570</td><td class=\"right\" data-stat=\"fg3_pct\">.284</td><td class=\"right\" data-stat=\"ft_pct\">.722</td><td class=\"right\" data-stat=\"ws\">13.4</td><td class=\"right\" data-stat=\"ws_per_48\">.258</td></tr>\n",
       "<tr><th class=\"right\" data-stat=\"rank\" scope=\"row\">5</th><td class=\"left\" csk=\"Malone,Karl\" data-append-csv=\"malonka01\" data-stat=\"player\"><a href=\"/players/m/malonka01.html\">Karl Malone</a></td><td class=\"right\" data-stat=\"age\">27</td><td class=\"left\" data-stat=\"team_id\"><a href=\"/teams/UTA/1991.html\">UTA</a></td><td class=\"right iz\" data-stat=\"votes_first\">0.0</td><td class=\"right\" data-stat=\"points_won\">142.0</td><td class=\"right\" data-stat=\"points_max\">960</td><td class=\"right\" data-stat=\"award_share\">0.148</td><td class=\"right\" data-stat=\"g\">82</td><td class=\"right\" data-stat=\"mp_per_g\">40.3</td><td class=\"right\" data-stat=\"pts_per_g\">29.0</td><td class=\"right\" data-stat=\"trb_per_g\">11.8</td><td class=\"right\" data-stat=\"ast_per_g\">3.3</td><td class=\"right\" data-stat=\"stl_per_g\">1.1</td><td class=\"right\" data-stat=\"blk_per_g\">1.0</td><td class=\"right\" data-stat=\"fg_pct\">.527</td><td class=\"right\" data-stat=\"fg3_pct\">.286</td><td class=\"right\" data-stat=\"ft_pct\">.770</td><td class=\"right\" data-stat=\"ws\">15.5</td><td class=\"right\" data-stat=\"ws_per_48\">.225</td></tr>\n",
       "<tr><th class=\"right\" data-stat=\"rank\" scope=\"row\">6</th><td class=\"left\" csk=\"Drexler,Clyde\" data-append-csv=\"drexlcl01\" data-stat=\"player\"><a href=\"/players/d/drexlcl01.html\">Clyde Drexler</a></td><td class=\"right\" data-stat=\"age\">28</td><td class=\"left\" data-stat=\"team_id\"><a href=\"/teams/POR/1991.html\">POR</a></td><td class=\"right\" data-stat=\"votes_first\">1.0</td><td class=\"right\" data-stat=\"points_won\">75.0</td><td class=\"right\" data-stat=\"points_max\">960</td><td class=\"right\" data-stat=\"award_share\">0.078</td><td class=\"right\" data-stat=\"g\">82</td><td class=\"right\" data-stat=\"mp_per_g\">34.8</td><td class=\"right\" data-stat=\"pts_per_g\">21.5</td><td class=\"right\" data-stat=\"trb_per_g\">6.7</td><td class=\"right\" data-stat=\"ast_per_g\">6.0</td><td class=\"right\" data-stat=\"stl_per_g\">1.8</td><td class=\"right\" data-stat=\"blk_per_g\">0.7</td><td class=\"right\" data-stat=\"fg_pct\">.482</td><td class=\"right\" data-stat=\"fg3_pct\">.319</td><td class=\"right\" data-stat=\"ft_pct\">.794</td><td class=\"right\" data-stat=\"ws\">12.4</td><td class=\"right\" data-stat=\"ws_per_48\">.209</td></tr>\n",
       "<tr><th class=\"right\" data-stat=\"rank\" scope=\"row\">7</th><td class=\"left\" csk=\"Johnson,Kevin\" data-append-csv=\"johnske02\" data-stat=\"player\"><a href=\"/players/j/johnske02.html\">Kevin Johnson</a></td><td class=\"right\" data-stat=\"age\">24</td><td class=\"left\" data-stat=\"team_id\"><a href=\"/teams/PHO/1991.html\">PHO</a></td><td class=\"right iz\" data-stat=\"votes_first\">0.0</td><td class=\"right\" data-stat=\"points_won\">32.0</td><td class=\"right\" data-stat=\"points_max\">960</td><td class=\"right\" data-stat=\"award_share\">0.033</td><td class=\"right\" data-stat=\"g\">77</td><td class=\"right\" data-stat=\"mp_per_g\">36.0</td><td class=\"right\" data-stat=\"pts_per_g\">22.2</td><td class=\"right\" data-stat=\"trb_per_g\">3.5</td><td class=\"right\" data-stat=\"ast_per_g\">10.1</td><td class=\"right\" data-stat=\"stl_per_g\">2.1</td><td class=\"right\" data-stat=\"blk_per_g\">0.1</td><td class=\"right\" data-stat=\"fg_pct\">.516</td><td class=\"right\" data-stat=\"fg3_pct\">.205</td><td class=\"right\" data-stat=\"ft_pct\">.843</td><td class=\"right\" data-stat=\"ws\">12.7</td><td class=\"right\" data-stat=\"ws_per_48\">.220</td></tr>\n",
       "<tr><th class=\"right\" data-stat=\"rank\" scope=\"row\">8</th><td class=\"left\" csk=\"Wilkins,Dominique\" data-append-csv=\"wilkido01\" data-stat=\"player\"><a href=\"/players/w/wilkido01.html\">Dominique Wilkins</a></td><td class=\"right\" data-stat=\"age\">31</td><td class=\"left\" data-stat=\"team_id\"><a href=\"/teams/ATL/1991.html\">ATL</a></td><td class=\"right iz\" data-stat=\"votes_first\">0.0</td><td class=\"right\" data-stat=\"points_won\">29.0</td><td class=\"right\" data-stat=\"points_max\">960</td><td class=\"right\" data-stat=\"award_share\">0.030</td><td class=\"right\" data-stat=\"g\">81</td><td class=\"right\" data-stat=\"mp_per_g\">38.0</td><td class=\"right\" data-stat=\"pts_per_g\">25.9</td><td class=\"right\" data-stat=\"trb_per_g\">9.0</td><td class=\"right\" data-stat=\"ast_per_g\">3.3</td><td class=\"right\" data-stat=\"stl_per_g\">1.5</td><td class=\"right\" data-stat=\"blk_per_g\">0.8</td><td class=\"right\" data-stat=\"fg_pct\">.470</td><td class=\"right\" data-stat=\"fg3_pct\">.341</td><td class=\"right\" data-stat=\"ft_pct\">.829</td><td class=\"right\" data-stat=\"ws\">11.4</td><td class=\"right\" data-stat=\"ws_per_48\">.177</td></tr>\n",
       "<tr><th class=\"right\" data-stat=\"rank\" scope=\"row\">9T</th><td class=\"left\" csk=\"Bird,Larry\" data-append-csv=\"birdla01\" data-stat=\"player\"><a href=\"/players/b/birdla01.html\">Larry Bird</a></td><td class=\"right\" data-stat=\"age\">34</td><td class=\"left\" data-stat=\"team_id\"><a href=\"/teams/BOS/1991.html\">BOS</a></td><td class=\"right iz\" data-stat=\"votes_first\">0.0</td><td class=\"right\" data-stat=\"points_won\">25.0</td><td class=\"right\" data-stat=\"points_max\">960</td><td class=\"right\" data-stat=\"award_share\">0.026</td><td class=\"right\" data-stat=\"g\">60</td><td class=\"right\" data-stat=\"mp_per_g\">38.0</td><td class=\"right\" data-stat=\"pts_per_g\">19.4</td><td class=\"right\" data-stat=\"trb_per_g\">8.5</td><td class=\"right\" data-stat=\"ast_per_g\">7.2</td><td class=\"right\" data-stat=\"stl_per_g\">1.8</td><td class=\"right\" data-stat=\"blk_per_g\">1.0</td><td class=\"right\" data-stat=\"fg_pct\">.454</td><td class=\"right\" data-stat=\"fg3_pct\">.389</td><td class=\"right\" data-stat=\"ft_pct\">.891</td><td class=\"right\" data-stat=\"ws\">6.6</td><td class=\"right\" data-stat=\"ws_per_48\">.140</td></tr>\n",
       "<tr><th class=\"right\" data-stat=\"rank\" scope=\"row\">9T</th><td class=\"left\" csk=\"Porter,Terry\" data-append-csv=\"portete01\" data-stat=\"player\"><a href=\"/players/p/portete01.html\">Terry Porter</a></td><td class=\"right\" data-stat=\"age\">27</td><td class=\"left\" data-stat=\"team_id\"><a href=\"/teams/POR/1991.html\">POR</a></td><td class=\"right iz\" data-stat=\"votes_first\">0.0</td><td class=\"right\" data-stat=\"points_won\">25.0</td><td class=\"right\" data-stat=\"points_max\">960</td><td class=\"right\" data-stat=\"award_share\">0.026</td><td class=\"right\" data-stat=\"g\">81</td><td class=\"right\" data-stat=\"mp_per_g\">32.9</td><td class=\"right\" data-stat=\"pts_per_g\">17.0</td><td class=\"right\" data-stat=\"trb_per_g\">3.5</td><td class=\"right\" data-stat=\"ast_per_g\">8.0</td><td class=\"right\" data-stat=\"stl_per_g\">2.0</td><td class=\"right\" data-stat=\"blk_per_g\">0.1</td><td class=\"right\" data-stat=\"fg_pct\">.515</td><td class=\"right\" data-stat=\"fg3_pct\">.415</td><td class=\"right\" data-stat=\"ft_pct\">.823</td><td class=\"right\" data-stat=\"ws\">13.0</td><td class=\"right\" data-stat=\"ws_per_48\">.235</td></tr>\n",
       "<tr><th class=\"right\" data-stat=\"rank\" scope=\"row\">11</th><td class=\"left\" csk=\"Ewing,Patrick\" data-append-csv=\"ewingpa01\" data-stat=\"player\"><a href=\"/players/e/ewingpa01.html\">Patrick Ewing</a></td><td class=\"right\" data-stat=\"age\">28</td><td class=\"left\" data-stat=\"team_id\"><a href=\"/teams/NYK/1991.html\">NYK</a></td><td class=\"right iz\" data-stat=\"votes_first\">0.0</td><td class=\"right\" data-stat=\"points_won\">20.0</td><td class=\"right\" data-stat=\"points_max\">960</td><td class=\"right\" data-stat=\"award_share\">0.021</td><td class=\"right\" data-stat=\"g\">81</td><td class=\"right\" data-stat=\"mp_per_g\">38.3</td><td class=\"right\" data-stat=\"pts_per_g\">26.6</td><td class=\"right\" data-stat=\"trb_per_g\">11.2</td><td class=\"right\" data-stat=\"ast_per_g\">3.0</td><td class=\"right\" data-stat=\"stl_per_g\">1.0</td><td class=\"right\" data-stat=\"blk_per_g\">3.2</td><td class=\"right\" data-stat=\"fg_pct\">.514</td><td class=\"right iz\" data-stat=\"fg3_pct\">.000</td><td class=\"right\" data-stat=\"ft_pct\">.745</td><td class=\"right\" data-stat=\"ws\">10.0</td><td class=\"right\" data-stat=\"ws_per_48\">.155</td></tr>\n",
       "<tr><th class=\"right\" data-stat=\"rank\" scope=\"row\">12</th><td class=\"left\" csk=\"Stockton,John\" data-append-csv=\"stockjo01\" data-stat=\"player\"><a href=\"/players/s/stockjo01.html\">John Stockton</a></td><td class=\"right\" data-stat=\"age\">28</td><td class=\"left\" data-stat=\"team_id\"><a href=\"/teams/UTA/1991.html\">UTA</a></td><td class=\"right iz\" data-stat=\"votes_first\">0.0</td><td class=\"right\" data-stat=\"points_won\">15.0</td><td class=\"right\" data-stat=\"points_max\">960</td><td class=\"right\" data-stat=\"award_share\">0.016</td><td class=\"right\" data-stat=\"g\">82</td><td class=\"right\" data-stat=\"mp_per_g\">37.8</td><td class=\"right\" data-stat=\"pts_per_g\">17.2</td><td class=\"right\" data-stat=\"trb_per_g\">2.9</td><td class=\"right\" data-stat=\"ast_per_g\">14.2</td><td class=\"right\" data-stat=\"stl_per_g\">2.9</td><td class=\"right\" data-stat=\"blk_per_g\">0.2</td><td class=\"right\" data-stat=\"fg_pct\">.507</td><td class=\"right\" data-stat=\"fg3_pct\">.345</td><td class=\"right\" data-stat=\"ft_pct\">.836</td><td class=\"right\" data-stat=\"ws\">14.0</td><td class=\"right\" data-stat=\"ws_per_48\">.217</td></tr>\n",
       "<tr><th class=\"right\" data-stat=\"rank\" scope=\"row\">13</th><td class=\"left\" csk=\"Thomas,Isiah\" data-append-csv=\"thomais01\" data-stat=\"player\"><a href=\"/players/t/thomais01.html\">Isiah Thomas</a></td><td class=\"right\" data-stat=\"age\">29</td><td class=\"left\" data-stat=\"team_id\"><a href=\"/teams/DET/1991.html\">DET</a></td><td class=\"right iz\" data-stat=\"votes_first\">0.0</td><td class=\"right\" data-stat=\"points_won\">11.0</td><td class=\"right\" data-stat=\"points_max\">960</td><td class=\"right\" data-stat=\"award_share\">0.011</td><td class=\"right\" data-stat=\"g\">48</td><td class=\"right\" data-stat=\"mp_per_g\">34.5</td><td class=\"right\" data-stat=\"pts_per_g\">16.2</td><td class=\"right\" data-stat=\"trb_per_g\">3.3</td><td class=\"right\" data-stat=\"ast_per_g\">9.3</td><td class=\"right\" data-stat=\"stl_per_g\">1.6</td><td class=\"right\" data-stat=\"blk_per_g\">0.2</td><td class=\"right\" data-stat=\"fg_pct\">.435</td><td class=\"right\" data-stat=\"fg3_pct\">.292</td><td class=\"right\" data-stat=\"ft_pct\">.782</td><td class=\"right\" data-stat=\"ws\">3.4</td><td class=\"right\" data-stat=\"ws_per_48\">.098</td></tr>\n",
       "<tr><th class=\"right\" data-stat=\"rank\" scope=\"row\">14</th><td class=\"left\" csk=\"Parish,Robert\" data-append-csv=\"parisro01\" data-stat=\"player\"><a href=\"/players/p/parisro01.html\">Robert Parish</a></td><td class=\"right\" data-stat=\"age\">37</td><td class=\"left\" data-stat=\"team_id\"><a href=\"/teams/BOS/1991.html\">BOS</a></td><td class=\"right iz\" data-stat=\"votes_first\">0.0</td><td class=\"right\" data-stat=\"points_won\">10.0</td><td class=\"right\" data-stat=\"points_max\">960</td><td class=\"right\" data-stat=\"award_share\">0.010</td><td class=\"right\" data-stat=\"g\">81</td><td class=\"right\" data-stat=\"mp_per_g\">30.1</td><td class=\"right\" data-stat=\"pts_per_g\">14.9</td><td class=\"right\" data-stat=\"trb_per_g\">10.6</td><td class=\"right\" data-stat=\"ast_per_g\">0.8</td><td class=\"right\" data-stat=\"stl_per_g\">0.8</td><td class=\"right\" data-stat=\"blk_per_g\">1.3</td><td class=\"right\" data-stat=\"fg_pct\">.598</td><td class=\"right iz\" data-stat=\"fg3_pct\">.000</td><td class=\"right\" data-stat=\"ft_pct\">.767</td><td class=\"right\" data-stat=\"ws\">10.0</td><td class=\"right\" data-stat=\"ws_per_48\">.198</td></tr>\n",
       "<tr><th class=\"right\" data-stat=\"rank\" scope=\"row\">15</th><td class=\"left\" csk=\"Dumars,Joe\" data-append-csv=\"dumarjo01\" data-stat=\"player\"><a href=\"/players/d/dumarjo01.html\">Joe Dumars</a></td><td class=\"right\" data-stat=\"age\">27</td><td class=\"left\" data-stat=\"team_id\"><a href=\"/teams/DET/1991.html\">DET</a></td><td class=\"right iz\" data-stat=\"votes_first\">0.0</td><td class=\"right\" data-stat=\"points_won\">8.0</td><td class=\"right\" data-stat=\"points_max\">960</td><td class=\"right\" data-stat=\"award_share\">0.008</td><td class=\"right\" data-stat=\"g\">80</td><td class=\"right\" data-stat=\"mp_per_g\">38.1</td><td class=\"right\" data-stat=\"pts_per_g\">20.4</td><td class=\"right\" data-stat=\"trb_per_g\">2.3</td><td class=\"right\" data-stat=\"ast_per_g\">5.5</td><td class=\"right\" data-stat=\"stl_per_g\">1.1</td><td class=\"right\" data-stat=\"blk_per_g\">0.1</td><td class=\"right\" data-stat=\"fg_pct\">.481</td><td class=\"right\" data-stat=\"fg3_pct\">.311</td><td class=\"right\" data-stat=\"ft_pct\">.890</td><td class=\"right\" data-stat=\"ws\">9.9</td><td class=\"right\" data-stat=\"ws_per_48\">.155</td></tr>\n",
       "<tr><th class=\"right\" data-stat=\"rank\" scope=\"row\">16</th><td class=\"left\" csk=\"King,Bernard\" data-append-csv=\"kingbe01\" data-stat=\"player\"><a href=\"/players/k/kingbe01.html\">Bernard King</a></td><td class=\"right\" data-stat=\"age\">34</td><td class=\"left\" data-stat=\"team_id\"><a href=\"/teams/WSB/1991.html\">WSB</a></td><td class=\"right iz\" data-stat=\"votes_first\">0.0</td><td class=\"right\" data-stat=\"points_won\">7.0</td><td class=\"right\" data-stat=\"points_max\">960</td><td class=\"right\" data-stat=\"award_share\">0.007</td><td class=\"right\" data-stat=\"g\">64</td><td class=\"right\" data-stat=\"mp_per_g\">37.5</td><td class=\"right\" data-stat=\"pts_per_g\">28.4</td><td class=\"right\" data-stat=\"trb_per_g\">5.0</td><td class=\"right\" data-stat=\"ast_per_g\">4.6</td><td class=\"right\" data-stat=\"stl_per_g\">0.9</td><td class=\"right\" data-stat=\"blk_per_g\">0.3</td><td class=\"right\" data-stat=\"fg_pct\">.472</td><td class=\"right\" data-stat=\"fg3_pct\">.216</td><td class=\"right\" data-stat=\"ft_pct\">.790</td><td class=\"right\" data-stat=\"ws\">3.5</td><td class=\"right\" data-stat=\"ws_per_48\">.070</td></tr>\n",
       "<tr><th class=\"right\" data-stat=\"rank\" scope=\"row\">17</th><td class=\"left\" csk=\"Smith,Kenny\" data-append-csv=\"smithke01\" data-stat=\"player\"><a href=\"/players/s/smithke01.html\">Kenny Smith</a></td><td class=\"right\" data-stat=\"age\">25</td><td class=\"left\" data-stat=\"team_id\"><a href=\"/teams/HOU/1991.html\">HOU</a></td><td class=\"right iz\" data-stat=\"votes_first\">0.0</td><td class=\"right\" data-stat=\"points_won\">5.0</td><td class=\"right\" data-stat=\"points_max\">960</td><td class=\"right\" data-stat=\"award_share\">0.005</td><td class=\"right\" data-stat=\"g\">78</td><td class=\"right\" data-stat=\"mp_per_g\">34.6</td><td class=\"right\" data-stat=\"pts_per_g\">17.7</td><td class=\"right\" data-stat=\"trb_per_g\">2.1</td><td class=\"right\" data-stat=\"ast_per_g\">7.1</td><td class=\"right\" data-stat=\"stl_per_g\">1.4</td><td class=\"right\" data-stat=\"blk_per_g\">0.1</td><td class=\"right\" data-stat=\"fg_pct\">.520</td><td class=\"right\" data-stat=\"fg3_pct\">.363</td><td class=\"right\" data-stat=\"ft_pct\">.844</td><td class=\"right\" data-stat=\"ws\">9.0</td><td class=\"right\" data-stat=\"ws_per_48\">.161</td></tr>\n",
       "<tr><th class=\"right\" data-stat=\"rank\" scope=\"row\">18</th><td class=\"left\" csk=\"Olajuwon,Hakeem\" data-append-csv=\"olajuha01\" data-stat=\"player\"><a href=\"/players/o/olajuha01.html\">Hakeem Olajuwon</a></td><td class=\"right\" data-stat=\"age\">28</td><td class=\"left\" data-stat=\"team_id\"><a href=\"/teams/HOU/1991.html\">HOU</a></td><td class=\"right iz\" data-stat=\"votes_first\">0.0</td><td class=\"right\" data-stat=\"points_won\">4.0</td><td class=\"right\" data-stat=\"points_max\">960</td><td class=\"right\" data-stat=\"award_share\">0.004</td><td class=\"right\" data-stat=\"g\">56</td><td class=\"right\" data-stat=\"mp_per_g\">36.8</td><td class=\"right\" data-stat=\"pts_per_g\">21.2</td><td class=\"right\" data-stat=\"trb_per_g\">13.8</td><td class=\"right\" data-stat=\"ast_per_g\">2.3</td><td class=\"right\" data-stat=\"stl_per_g\">2.2</td><td class=\"right\" data-stat=\"blk_per_g\">3.9</td><td class=\"right\" data-stat=\"fg_pct\">.508</td><td class=\"right iz\" data-stat=\"fg3_pct\">.000</td><td class=\"right\" data-stat=\"ft_pct\">.769</td><td class=\"right\" data-stat=\"ws\">8.6</td><td class=\"right\" data-stat=\"ws_per_48\">.201</td></tr>\n",
       "<tr><th class=\"right\" data-stat=\"rank\" scope=\"row\">19T</th><td class=\"left\" csk=\"Hardaway,Tim\" data-append-csv=\"hardati01\" data-stat=\"player\"><a href=\"/players/h/hardati01.html\">Tim Hardaway</a></td><td class=\"right\" data-stat=\"age\">24</td><td class=\"left\" data-stat=\"team_id\"><a href=\"/teams/GSW/1991.html\">GSW</a></td><td class=\"right iz\" data-stat=\"votes_first\">0.0</td><td class=\"right\" data-stat=\"points_won\">1.0</td><td class=\"right\" data-stat=\"points_max\">960</td><td class=\"right\" data-stat=\"award_share\">0.001</td><td class=\"right\" data-stat=\"g\">82</td><td class=\"right\" data-stat=\"mp_per_g\">39.2</td><td class=\"right\" data-stat=\"pts_per_g\">22.9</td><td class=\"right\" data-stat=\"trb_per_g\">4.0</td><td class=\"right\" data-stat=\"ast_per_g\">9.7</td><td class=\"right\" data-stat=\"stl_per_g\">2.6</td><td class=\"right\" data-stat=\"blk_per_g\">0.1</td><td class=\"right\" data-stat=\"fg_pct\">.476</td><td class=\"right\" data-stat=\"fg3_pct\">.385</td><td class=\"right\" data-stat=\"ft_pct\">.803</td><td class=\"right\" data-stat=\"ws\">9.9</td><td class=\"right\" data-stat=\"ws_per_48\">.148</td></tr>\n",
       "<tr><th class=\"right\" data-stat=\"rank\" scope=\"row\">19T</th><td class=\"left\" csk=\"McHale,Kevin\" data-append-csv=\"mchalke01\" data-stat=\"player\"><a href=\"/players/m/mchalke01.html\">Kevin McHale</a></td><td class=\"right\" data-stat=\"age\">33</td><td class=\"left\" data-stat=\"team_id\"><a href=\"/teams/BOS/1991.html\">BOS</a></td><td class=\"right iz\" data-stat=\"votes_first\">0.0</td><td class=\"right\" data-stat=\"points_won\">1.0</td><td class=\"right\" data-stat=\"points_max\">960</td><td class=\"right\" data-stat=\"award_share\">0.001</td><td class=\"right\" data-stat=\"g\">68</td><td class=\"right\" data-stat=\"mp_per_g\">30.4</td><td class=\"right\" data-stat=\"pts_per_g\">18.4</td><td class=\"right\" data-stat=\"trb_per_g\">7.1</td><td class=\"right\" data-stat=\"ast_per_g\">1.9</td><td class=\"right\" data-stat=\"stl_per_g\">0.4</td><td class=\"right\" data-stat=\"blk_per_g\">2.1</td><td class=\"right\" data-stat=\"fg_pct\">.553</td><td class=\"right\" data-stat=\"fg3_pct\">.405</td><td class=\"right\" data-stat=\"ft_pct\">.829</td><td class=\"right\" data-stat=\"ws\">7.9</td><td class=\"right\" data-stat=\"ws_per_48\">.182</td></tr>\n",
       "</tbody></table>"
      ]
     },
     "execution_count": 24,
     "metadata": {},
     "output_type": "execute_result"
    }
   ],
   "source": [
    "#Setting up inital scraper method to see if I can get one file\n",
    "from bs4 import BeautifulSoup\n",
    "\n",
    "with open(\"1991.html\") as f:\n",
    "    page = f.read()\n",
    "soup = BeautifulSoup(page, \"html.parser\")\n",
    "#soup.find('tr', class_=\"over_header\").decompose()\n",
    "soup.find(id=\"mvp\")\n"
   ]
  },
  {
   "cell_type": "code",
   "execution_count": 25,
   "metadata": {},
   "outputs": [],
   "source": [
    "import pandas as pd\n",
    "years = list(range(1991, 2023))\n",
    "dataframes = []\n",
    "\n",
    "#make a list of dataframes to store each mvp table. easy to concat"
   ]
  },
  {
   "cell_type": "code",
   "execution_count": 26,
   "metadata": {},
   "outputs": [],
   "source": [
    "import codecs"
   ]
  },
  {
   "cell_type": "code",
   "execution_count": 29,
   "metadata": {},
   "outputs": [
    {
     "name": "stdout",
     "output_type": "stream",
     "text": [
      "   Rank           Player  Age   Tm  First  Pts Won  Pts Max  Share   G    MP  \\\n",
      "0     1   Michael Jordan   27  CHI   77.0    891.0      960  0.928  82  37.0   \n",
      "1     2    Magic Johnson   31  LAL   10.0    497.0      960  0.518  79  37.1   \n",
      "2     3   David Robinson   25  SAS    6.0    476.0      960  0.496  82  37.7   \n",
      "3     4  Charles Barkley   27  PHI    2.0    222.0      960  0.231  67  37.3   \n",
      "4     5      Karl Malone   27  UTA    0.0    142.0      960  0.148  82  40.3   \n",
      "..  ...              ...  ...  ...    ...      ...      ...    ...  ..   ...   \n",
      "7     8    Stephen Curry   33  GSW    0.0      4.0     1000  0.004  64  34.5   \n",
      "8     9       Chris Paul   36  PHO    0.0      2.0     1000  0.002  65  32.9   \n",
      "9   10T    DeMar DeRozan   32  CHI    0.0      1.0     1000  0.001  76  36.1   \n",
      "10  10T     Kevin Durant   33  BRK    0.0      1.0     1000  0.001  55  37.2   \n",
      "11  10T     LeBron James   37  LAL    0.0      1.0     1000  0.001  56  37.2   \n",
      "\n",
      "    ...   TRB   AST  STL  BLK    FG%    3P%    FT%    WS  WS/48  Year  \n",
      "0   ...   6.0   5.5  2.7  1.0  0.539  0.312  0.851  20.3  0.321  1991  \n",
      "1   ...   7.0  12.5  1.3  0.2  0.477  0.320  0.906  15.4  0.251  1991  \n",
      "2   ...  13.0   2.5  1.5  3.9  0.552  0.143  0.762  17.0  0.264  1991  \n",
      "3   ...  10.1   4.2  1.6  0.5  0.570  0.284  0.722  13.4  0.258  1991  \n",
      "4   ...  11.8   3.3  1.1  1.0  0.527  0.286  0.770  15.5  0.225  1991  \n",
      "..  ...   ...   ...  ...  ...    ...    ...    ...   ...    ...   ...  \n",
      "7   ...   5.2   6.3  1.3  0.4  0.437  0.380  0.923   8.0  0.173  2022  \n",
      "8   ...   4.4  10.8  1.9  0.3  0.493  0.317  0.837   9.4  0.210  2022  \n",
      "9   ...   5.2   4.9  0.9  0.3  0.504  0.352  0.877   8.8  0.154  2022  \n",
      "10  ...   7.4   6.4  0.9  0.9  0.518  0.383  0.910   8.4  0.198  2022  \n",
      "11  ...   8.2   6.2  1.3  1.1  0.524  0.359  0.756   7.5  0.172  2022  \n",
      "\n",
      "[972 rows x 21 columns]\n"
     ]
    }
   ],
   "source": [
    "\n",
    "for year in years:\n",
    "    #print (year)\n",
    "    with codecs.open(\"{}.html\".format(year), 'r', encoding=\"utf-8\", errors='ignore') as nfile:\n",
    "        newPage = nfile.read()\n",
    "    goodSoup = BeautifulSoup(newPage, \"html.parser\")\n",
    "    goodSoup.find('tr', class_=\"over_header\").decompose()\n",
    "    mvpTable = goodSoup.find(id=\"mvp\")\n",
    "    mvp = pd.read_html(str(mvpTable))[0]\n",
    "    mvp[\"Year\"] = year\n",
    "    dataframes.append(mvp)\n",
    "           \n",
    "\n",
    "\n",
    "        \n",
    "        #print(back)\n",
    "\n",
    "finalMVP = pd.concat(dataframes)\n",
    "print(finalMVP)"
   ]
  },
  {
   "cell_type": "code",
   "execution_count": 34,
   "metadata": {},
   "outputs": [],
   "source": [
    "finalMVP.head()\n",
    "finalMVP.tail()\n",
    "#check the heads and tails to see if all of that loks alright (it do!)\n",
    "#now make it a .csv so I won't have to even mess w/ scraping anything else form MVP pages, and it'll be saved in a tangible, seperate file in the folder\n",
    "\n",
    "finalMVP.to_csv(\"postMVPtablscrape.csv\")"
   ]
  },
  {
   "cell_type": "code",
   "execution_count": null,
   "metadata": {},
   "outputs": [],
   "source": [
    "#grabbing all of the player per game stats for each year on the Seasons page or whatever.\n",
    "#gonna be the same process as what we did to grab award voting pages for each year so we can have the rest of the players to compare and add more dataset for a ML model\n",
    "#shit im going to have to grab the advanced stats and merge them to the regular table I believe?\n",
    "\n",
    "starting_url_reg = \"https://www.basketball-reference.com/leagues/NBA_{}_per_game.html\"\n",
    "starting_url_adv = \"https://www.basketball-reference.com/leagues/NBA_{}_advanced.html\""
   ]
  }
 ],
 "metadata": {
  "kernelspec": {
   "display_name": "Python 3 (ipykernel)",
   "language": "python",
   "name": "python3"
  },
  "language_info": {
   "codemirror_mode": {
    "name": "ipython",
    "version": 3
   },
   "file_extension": ".py",
   "mimetype": "text/x-python",
   "name": "python",
   "nbconvert_exporter": "python",
   "pygments_lexer": "ipython3",
   "version": "3.11.5"
  },
  "orig_nbformat": 4
 },
 "nbformat": 4,
 "nbformat_minor": 2
}
